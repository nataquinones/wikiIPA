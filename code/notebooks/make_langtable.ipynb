{
 "cells": [
  {
   "cell_type": "markdown",
   "id": "55b606b3-e70b-4e08-9af8-498c2c6c9105",
   "metadata": {},
   "source": [
    "# Run pipeline"
   ]
  },
  {
   "cell_type": "markdown",
   "id": "9b656738-b573-4fad-b88a-79e4071be077",
   "metadata": {},
   "source": [
    "There are three main steps:\n",
    "1. Generate \"sample\" table, which is the able of languages with IPA. (This notebook)\n",
    "2. Download IPA for each word for each language, and make glossary tsv. (`rule: glossary_tsv` in Snakemake)\n",
    "3. Generate markdown pages ( in Snakemake)"
   ]
  },
  {
   "cell_type": "code",
   "execution_count": 1,
   "id": "53790642-96e5-4c4a-a9d9-c0471b5d5329",
   "metadata": {},
   "outputs": [],
   "source": [
    "import os\n",
    "import sys\n",
    "\n",
    "module_path = os.path.abspath(os.path.join('..'))\n",
    "if module_path not in sys.path:\n",
    "    sys.path.append(module_path)\n",
    "    \n",
    "from scripts import wikiIPA_tools as tools"
   ]
  },
  {
   "cell_type": "markdown",
   "id": "4447e2f2-9a32-4376-ba3d-6fd4750aa5b1",
   "metadata": {},
   "source": [
    "## version 0.1"
   ]
  },
  {
   "cell_type": "markdown",
   "id": "dcc75bf0-6703-4a3a-a007-6e295c9ae967",
   "metadata": {},
   "source": [
    "1. Create list of languages with IPA"
   ]
  },
  {
   "cell_type": "code",
   "execution_count": 2,
   "id": "5232fdca-e159-414e-906a-5496f8509eb6",
   "metadata": {},
   "outputs": [],
   "source": [
    "version = 0.1\n",
    "tools.create_list(version)"
   ]
  },
  {
   "cell_type": "markdown",
   "id": "7ddec683-89d2-4cce-9a7d-daa621287bfd",
   "metadata": {},
   "source": [
    "2. Run `run_snakemake.sh`:\n",
    "\n",
    "```\n",
    "snakemake --cores 4 -k --config 'version=0.1'\n",
    "```"
   ]
  }
 ],
 "metadata": {
  "kernelspec": {
   "display_name": "Python 3 (ipykernel)",
   "language": "python",
   "name": "python3"
  },
  "language_info": {
   "codemirror_mode": {
    "name": "ipython",
    "version": 3
   },
   "file_extension": ".py",
   "mimetype": "text/x-python",
   "name": "python",
   "nbconvert_exporter": "python",
   "pygments_lexer": "ipython3",
   "version": "3.9.5"
  }
 },
 "nbformat": 4,
 "nbformat_minor": 5
}
