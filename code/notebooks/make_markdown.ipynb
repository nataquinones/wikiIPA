{
 "cells": [
  {
   "cell_type": "markdown",
   "id": "d0d8b081-7204-4a30-a128-623c41cd1625",
   "metadata": {},
   "source": [
    "# Prototype make markdown"
   ]
  },
  {
   "cell_type": "markdown",
   "id": "1a498d8e-2189-4158-b4f6-8b39c9ac2e2b",
   "metadata": {},
   "source": [
    "How to link:\n",
    "https://en.wiktionary.org/wiki/?curid=4972091\n",
    "\n",
    "\n",
    "https://en.wiktionary.org/wiki/?curid=80890"
   ]
  },
  {
   "cell_type": "code",
   "execution_count": 5,
   "id": "f6a2ad75-d03e-49c8-bb8d-03dc2b50cc4a",
   "metadata": {},
   "outputs": [],
   "source": [
    "import os\n",
    "import pandas as pd"
   ]
  },
  {
   "cell_type": "code",
   "execution_count": 8,
   "id": "e578b2d2-c9a4-4bb7-abc9-2b0c25be86b9",
   "metadata": {},
   "outputs": [],
   "source": [
    "df = pd.read_csv('../data/0.1/language_list.tsv', sep='\\t')"
   ]
  },
  {
   "cell_type": "code",
   "execution_count": 10,
   "id": "564494ae-6f8b-44f8-85c0-f50c67fc0df7",
   "metadata": {},
   "outputs": [],
   "source": [
    "langname_dict = df.set_index('lang_min').to_dict()['lang']\n",
    "pageid_dict = df.set_index('lang_min').to_dict()['pageid']"
   ]
  },
  {
   "cell_type": "code",
   "execution_count": 50,
   "id": "c15ff432-f1f9-428e-a5ea-a20c7435a101",
   "metadata": {},
   "outputs": [],
   "source": [
    "data = '../data/0.1/tables'\n",
    "data_out = '../../docs/glossaries'\n",
    "\n",
    "for file in os.listdir(data):\n",
    "    if file.endswith('.tsv'):\n",
    "        file_path = os.path.join(data, file)\n",
    "        lang_name = file.split('.tsv')[0]\n",
    "        \n",
    "        real_name = langname_dict[lang_name]\n",
    "        first_letter = lang_name[0].upper()\n",
    "        \n",
    "        pageid = pageid_dict[lang_name]\n",
    "        \n",
    "        df_words = pd.read_csv(file_path, sep='\\t')\n",
    "        \n",
    "        out_path = os.path.join(data_out, first_letter, f'{lang_name}.md')\n",
    "        \n",
    "        if not os.path.isdir(os.path.join(data_out, first_letter)):\n",
    "            os.mkdir(os.path.join(data_out, first_letter))\n",
    "            \n",
    "            index_file = os.path.join(data_out, first_letter, 'index.md')\n",
    "            fi = open(index_file, 'w')\n",
    "            fi.write('---\\n')\n",
    "            fi.write('layout: default\\n')\n",
    "            fi.write(f'title: {first_letter}\\n')\n",
    "            fi.write('parent: Glossaries\\n')\n",
    "            fi.write('has_children: true\\n')\n",
    "            fi.write('---\\n')\n",
    "            fi.write('\\n')\n",
    "            fi.write(f'# {first_letter}')\n",
    "            fi.write('\\n')\n",
    "            fi.close()\n",
    "\n",
    "        \n",
    "        \n",
    "        f = open(out_path, 'w')\n",
    "        \n",
    "        f.write('---\\n')\n",
    "        f.write('layout: default\\n')\n",
    "        f.write(f'title:  {real_name}\\n')\n",
    "        f.write(f'parent: {first_letter}\\n')\n",
    "        f.write('grand_parent: Glossaries\\n')\n",
    "        f.write('---\\n')\n",
    "        f.write('\\n')\n",
    "        f.write(f'# {real_name}\\n')\n",
    "        f.write('\\n')\n",
    "        f.write('\\n')\n",
    "        \n",
    "        for column, row in df_words.iterrows():\n",
    "            word = row['word']\n",
    "            pageid = row['pageid']\n",
    "            ipa = row['ipa']\n",
    "            \n",
    "            f.write(f'[{word}](https://en.wiktionary.org/wiki/?curid={pageid})\\n')\n",
    "            f.write(f': {ipa}\\n')\n",
    "            f.write('\\n')\n",
    "        \n",
    "        f.close()"
   ]
  },
  {
   "cell_type": "code",
   "execution_count": null,
   "id": "4df1941a-32ee-43cc-80bb-cfb9d245ba15",
   "metadata": {},
   "outputs": [],
   "source": []
  }
 ],
 "metadata": {
  "kernelspec": {
   "display_name": "Python 3 (ipykernel)",
   "language": "python",
   "name": "python3"
  },
  "language_info": {
   "codemirror_mode": {
    "name": "ipython",
    "version": 3
   },
   "file_extension": ".py",
   "mimetype": "text/x-python",
   "name": "python",
   "nbconvert_exporter": "python",
   "pygments_lexer": "ipython3",
   "version": "3.9.5"
  }
 },
 "nbformat": 4,
 "nbformat_minor": 5
}
